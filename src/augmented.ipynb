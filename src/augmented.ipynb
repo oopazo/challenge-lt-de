{
 "cells": [
  {
   "cell_type": "code",
   "execution_count": 11,
   "id": "ee88f4de-2a8d-42e2-b69e-39adb3b60a40",
   "metadata": {},
   "outputs": [],
   "source": [
    "from ipynb.fs.full.utils import *"
   ]
  },
  {
   "cell_type": "code",
   "execution_count": 12,
   "id": "d3433fdc-b9ce-4a58-adf6-69574d6d9daa",
   "metadata": {},
   "outputs": [
    {
     "name": "stdout",
     "output_type": "stream",
     "text": [
      "reading file ../data/contrato_latam_fakesoft.md...\n",
      "reading file ../data/contrato_latam_ficticia_anexo_b_especificaciones_tecnicas.md...\n",
      "reading file ../data/contrato_latam_ficticia.md...\n",
      "3 documents.\n",
      "Chunked into 109 nodes.\n"
     ]
    }
   ],
   "source": [
    "documents = read_files()\n",
    "print(f\"{len(documents)} documents.\")\n",
    "\n",
    "nodes = chunk_documents(documents)\n",
    "print(f\"Chunked into {len(nodes)} nodes.\")"
   ]
  },
  {
   "cell_type": "code",
   "execution_count": 13,
   "id": "c7ff6d0d-342b-4981-8503-5d4bda085ea2",
   "metadata": {},
   "outputs": [
    {
     "name": "stdout",
     "output_type": "stream",
     "text": [
      "filename: contrato_latam_fakesoft.md\n",
      "extension: .md\n",
      "header_path: /CONTRATO DE PRESTACIÓN DE SERVICIOS PROFESIONALES/Terminación del Contrato/\n",
      "\n",
      "### DÉCIMA PRIMERA.- CAUSALES DE TERMINACIÓN\n",
      "El presente contrato podrá terminarse por cualquiera de las siguientes causas:\n",
      "\n",
      "1. Por mutuo acuerdo de las partes\n",
      "2. Por incumplimiento de cualquiera de las obligaciones establecidas en el presente contrato\n",
      "3. Por caso fortuito o fuerza mayor\n",
      "4. Por la terminación del plazo establecido\n",
      "5. Por la liquidación o disolución de cualquiera de las partes\n",
      "6. Por incumplimiento grave de las obligaciones de confidencialidad\n",
      "7. Por problemas de calidad recurrentes no resueltos\n",
      "8. Por cambios regulatorios que impidan la continuidad del contrato\n"
     ]
    }
   ],
   "source": [
    "#showing a random node structure\n",
    "print_node(node=nodes[22])"
   ]
  },
  {
   "cell_type": "code",
   "execution_count": 14,
   "id": "51a79c53-62fe-4deb-afba-d990966fefe6",
   "metadata": {},
   "outputs": [],
   "source": [
    "# improving node structures\n",
    "nodes = organize_node_structure(nodes)"
   ]
  },
  {
   "cell_type": "code",
   "execution_count": 15,
   "id": "f65d33c0-443e-401d-a4a5-4647a60d0fcc",
   "metadata": {},
   "outputs": [],
   "source": [
    "nodes = agument_metadata(nodes)"
   ]
  },
  {
   "cell_type": "code",
   "execution_count": 16,
   "id": "e7c60ca0-3ff1-424a-962a-f6b6869ffda6",
   "metadata": {},
   "outputs": [
    {
     "name": "stdout",
     "output_type": "stream",
     "text": [
      "METADATA:\n",
      "filename: contrato_latam_fakesoft.md\n",
      "header_path: /CONTRATO DE PRESTACIÓN DE SERVICIOS PROFESIONALES/Terminación del Contrato/\n",
      "company: Fakesoft\n",
      "---\n",
      "CONTENT:\n",
      "### DÉCIMA PRIMERA.- CAUSALES DE TERMINACIÓN\n",
      "El presente contrato podrá terminarse por cualquiera de las siguientes causas:\n",
      "\n",
      "1. Por mutuo acuerdo de las partes\n",
      "2. Por incumplimiento de cualquiera de las obligaciones establecidas en el presente contrato\n",
      "3. Por caso fortuito o fuerza mayor\n",
      "4. Por la terminación del plazo establecido\n",
      "5. Por la liquidación o disolución de cualquiera de las partes\n",
      "6. Por incumplimiento grave de las obligaciones de confidencialidad\n",
      "7. Por problemas de calidad recurrentes no resueltos\n",
      "8. Por cambios regulatorios que impidan la continuidad del contrato\n"
     ]
    }
   ],
   "source": [
    "print_node(node=nodes[22])"
   ]
  },
  {
   "cell_type": "code",
   "execution_count": 17,
   "id": "c0ed34c3-274b-4192-ae10-c98d3b39a008",
   "metadata": {},
   "outputs": [
    {
     "name": "stdout",
     "output_type": "stream",
     "text": [
      "TextNode(id_='ed85e901-f6b8-4677-8567-43c846b84a26', embedding=None, metadata={'filename': 'contrato_latam_fakesoft.md', 'extension': '.md', 'header_path': '/CONTRATO DE PRESTACIÓN DE SERVICIOS PROFESIONALES/Terminación del Contrato/', 'company': 'Fakesoft'}, excluded_embed_metadata_keys=['extension'], excluded_llm_metadata_keys=['extension'], relationships={<NodeRelationship.SOURCE: '1'>: RelatedNodeInfo(node_id='1089dfbd-ba9b-4510-b8f4-3c0bd21d6278', node_type=<ObjectType.DOCUMENT: '4'>, metadata={'filename': 'contrato_latam_fakesoft.md', 'extension': '.md'}, hash='dd5b57031c3456bda10f582a09c76d7cc2a25181f75babb6af5b228f4dd15daf'), <NodeRelationship.PREVIOUS: '2'>: RelatedNodeInfo(node_id='eacbcfdd-5eb4-4f7b-a5db-a421ee735984', node_type=<ObjectType.TEXT: '1'>, metadata={'filename': 'contrato_latam_fakesoft.md', 'extension': '.md', 'header_path': '/CONTRATO DE PRESTACIÓN DE SERVICIOS PROFESIONALES/'}, hash='3f863fd28de1653c3adfbdf612cf9600f7e75e307d35766df2742e9586017138'), <NodeRelationship.NEXT: '3'>: RelatedNodeInfo(node_id='f5ff577e-5edb-4c83-ac94-2b09e851c563', node_type=<ObjectType.TEXT: '1'>, metadata={'header_path': '/CONTRATO DE PRESTACIÓN DE SERVICIOS PROFESIONALES/Terminación del Contrato/'}, hash='368057d4c007fc24f2ba119f8414d3b8ea046e001a5d768fda0b5067a6325429')}, metadata_template='{key}: {value}', metadata_separator='\\n', text='### DÉCIMA PRIMERA.- CAUSALES DE TERMINACIÓN\\nEl presente contrato podrá terminarse por cualquiera de las siguientes causas:\\n\\n1. Por mutuo acuerdo de las partes\\n2. Por incumplimiento de cualquiera de las obligaciones establecidas en el presente contrato\\n3. Por caso fortuito o fuerza mayor\\n4. Por la terminación del plazo establecido\\n5. Por la liquidación o disolución de cualquiera de las partes\\n6. Por incumplimiento grave de las obligaciones de confidencialidad\\n7. Por problemas de calidad recurrentes no resueltos\\n8. Por cambios regulatorios que impidan la continuidad del contrato', mimetype='text/plain', start_char_idx=24120, end_char_idx=24704, metadata_seperator='\\n', text_template='METADATA:\\n{metadata_str}\\n---\\nCONTENT:\\n{content}')\n"
     ]
    }
   ],
   "source": [
    "from pprint import pprint\n",
    "pprint(nodes[22])"
   ]
  },
  {
   "cell_type": "code",
   "execution_count": 18,
   "id": "272d7ab5-6336-4ce4-baa6-723baf47efce",
   "metadata": {},
   "outputs": [
    {
     "name": "stdout",
     "output_type": "stream",
     "text": [
      "building vector index: ../chroma_index, collection: basic_augmented_index_test\n"
     ]
    }
   ],
   "source": [
    "# first time load: create and persit index. Then you can just load it to save time and costs:\n",
    "basic_augmented_index = get_or_create_chroma_index(nodes, collection=\"basic_augmented_index_test\", mode=\"create\")\n",
    "# basic_augmented_index = get_or_create_chroma_index(nodes, collection=\"basic_augmented_index\", mode=\"load\")"
   ]
  },
  {
   "cell_type": "code",
   "execution_count": 20,
   "id": "f8cda9d9-eab4-44e4-be25-e958c06f0e7a",
   "metadata": {},
   "outputs": [
    {
     "name": "stdout",
     "output_type": "stream",
     "text": [
      "==================================================\n",
      "query: ¿Cómo es el reajuste por IPC en Fakesoft? ¿Cómo es el reajuste por IPC en Ficticia?\n",
      "==================================================\n",
      "answer:\n",
      "No se proporciona información específica sobre el reajuste por IPC en Fakesoft. En cambio, en Ficticia, el incremento por inflación se realiza considerando el IPC más un 2%.\n",
      "==================================================\n",
      "relevant_nodes:\n",
      "METADATA:\n",
      "filename: contrato_latam_ficticia.md\n",
      "header_path: /CONTRATO DE PRESTACIÓN DE SERVICIOS PROFESIONALES DE CLOUD COMPUTING/Honorarios y Forma de Pago/\n",
      "company: Ficticia\n",
      "---\n",
      "CONTENT:\n",
      "### SÉPTIMA.- HONORARIOS Y BENEFICIOS\n",
      "Por concepto de los servicios objeto del presente contrato, LATAM pagará a FICTICIA:\n",
      "\n",
      "1. Honorarios base: USD 50,000 (CINCUENTA MIL DÓLARES) mensuales, más los impuestos aplicables\n",
      "2. Beneficios adicionales:\n",
      "   - Descuento por volumen de uso: hasta 20% del honorario base\n",
      "   - Soporte premium: USD 5,000 mensuales\n",
      "   - Capacitación técnica: USD 2,000 por sesión\n",
      "   - Optimización de costos: 15% de ahorro compartido\n",
      "3. Ajustes anuales:\n",
      "   - Incremento por inflación: IPC + 2%\n",
      "   - Revisión de precios: semestral\n",
      "METADATA:\n",
      "filename: contrato_latam_ficticia.md\n",
      "header_path: /CONTRATO DE PRESTACIÓN DE SERVICIOS PROFESIONALES DE CLOUD COMPUTING/Propiedad Intelectual/\n",
      "company: Ficticia\n",
      "---\n",
      "CONTENT:\n",
      "### DÉCIMA.- PROPIEDAD INTELECTUAL\n",
      "Los modelos de IA desarrollados y entrenados por FICTICIA serán de su propiedad exclusiva. LATAM tendrá derecho a utilizar datos anonimizados para mejorar sus servicios, siempre que no comprometa la confidencialidad de FICTICIA.\n",
      "==================================================\n",
      "\n",
      "\n",
      "\n",
      "==================================================\n",
      "query: ¿Cuál es el cronograma para pagar establecido en el contrato con Fakesoft?\n",
      "==================================================\n",
      "answer:\n",
      "El cronograma de pago establecido en el contrato con Fakesoft es el siguiente: un 30% al inicio del contrato, un 40% al cumplirse el 50% de los servicios, y el 30% restante al finalizar los servicios. Todos los pagos deben realizarse dentro de los 30 días hábiles posteriores a la presentación de la factura correspondiente.\n",
      "==================================================\n",
      "relevant_nodes:\n",
      "METADATA:\n",
      "filename: contrato_latam_fakesoft.md\n",
      "header_path: /CONTRATO DE PRESTACIÓN DE SERVICIOS PROFESIONALES/Honorarios y Forma de Pago/\n",
      "company: Fakesoft\n",
      "---\n",
      "CONTENT:\n",
      "### OCTAVA.- FORMA DE PAGO\n",
      "Los pagos se realizarán de la siguiente manera:\n",
      "\n",
      "1. 30% al inicio del contrato\n",
      "2. 40% al cumplimiento del 50% de los servicios\n",
      "3. 30% al finalizar los servicios\n",
      "\n",
      "Los pagos deberán realizarse dentro de los 30 días hábiles siguientes a la presentación de la factura correspondiente.\n",
      "METADATA:\n",
      "filename: contrato_latam_fakesoft.md\n",
      "header_path: /CONTRATO DE PRESTACIÓN DE SERVICIOS PROFESIONALES/\n",
      "company: Fakesoft\n",
      "---\n",
      "CONTENT:\n",
      "## Honorarios y Forma de Pago\n",
      "==================================================\n",
      "\n",
      "\n",
      "\n",
      "==================================================\n",
      "query: ¿Qué tipo de almacenamiento utiliza Ficticia?\n",
      "==================================================\n",
      "answer:\n",
      "Ficticia utiliza almacenamiento SSD NVMe y HDD, con capacidades de 100TB y 500TB respectivamente, además de un sistema de redundancia 3x en ambos tipos. También cuenta con almacenamiento específico para modelos de 50TB en SSD NVMe y un sistema de backup diario con una capacidad de 200TB.\n",
      "==================================================\n",
      "relevant_nodes:\n",
      "METADATA:\n",
      "filename: contrato_latam_ficticia_anexo_b_especificaciones_tecnicas.md\n",
      "header_path: /ANEXO B: ESPECIFICACIONES TÉCNICAS DE LA INFRAESTRUCTURA CLOUD/1. Infraestructura de Cómputo/\n",
      "company: Ficticia\n",
      "---\n",
      "CONTENT:\n",
      "### 1.2 Almacenamiento\n",
      "- **Almacenamiento de Datos**:\n",
      "  - SSD NVMe: 100TB\n",
      "  - HDD: 500TB\n",
      "  - Redundancia: 3x replicación\n",
      "- **Almacenamiento de Modelos**:\n",
      "  - SSD NVMe: 50TB\n",
      "  - Redundancia: 3x replicación\n",
      "- **Backup**:\n",
      "  - Frecuencia: Diaria\n",
      "  - Retención: 30 días\n",
      "  - Capacidad: 200TB\n",
      "METADATA:\n",
      "filename: contrato_latam_ficticia_anexo_b_especificaciones_tecnicas.md\n",
      "header_path: /ANEXO B: ESPECIFICACIONES TÉCNICAS DE LA INFRAESTRUCTURA CLOUD/7. Escalabilidad/\n",
      "company: Ficticia\n",
      "---\n",
      "CONTENT:\n",
      "### 7.2 Límites\n",
      "- Máximo de instancias: 200\n",
      "- Máximo de almacenamiento: 2PB\n",
      "- Máximo de ancho de banda: 100 Gbps\n",
      "==================================================\n",
      "\n",
      "\n",
      "\n"
     ]
    }
   ],
   "source": [
    "execute_queries(basic_augmented_index, queries)"
   ]
  }
 ],
 "metadata": {
  "kernelspec": {
   "display_name": "Python 3 (ipykernel)",
   "language": "python",
   "name": "python3"
  },
  "language_info": {
   "codemirror_mode": {
    "name": "ipython",
    "version": 3
   },
   "file_extension": ".py",
   "mimetype": "text/x-python",
   "name": "python",
   "nbconvert_exporter": "python",
   "pygments_lexer": "ipython3",
   "version": "3.12.3"
  }
 },
 "nbformat": 4,
 "nbformat_minor": 5
}
