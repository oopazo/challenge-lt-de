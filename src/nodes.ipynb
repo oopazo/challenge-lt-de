{
 "cells": [
  {
   "cell_type": "code",
   "execution_count": 15,
   "id": "ee88f4de-2a8d-42e2-b69e-39adb3b60a40",
   "metadata": {},
   "outputs": [],
   "source": [
    "from ipynb.fs.full.utils import *"
   ]
  },
  {
   "cell_type": "code",
   "execution_count": 16,
   "id": "d3433fdc-b9ce-4a58-adf6-69574d6d9daa",
   "metadata": {},
   "outputs": [
    {
     "name": "stdout",
     "output_type": "stream",
     "text": [
      "reading file ../data/contrato_latam_fakesoft.md...\n",
      "reading file ../data/contrato_latam_ficticia_anexo_b_especificaciones_tecnicas.md...\n",
      "reading file ../data/contrato_latam_ficticia.md...\n",
      "3 documents.\n",
      "Chunked into 109 nodes.\n"
     ]
    }
   ],
   "source": [
    "documents = read_files()\n",
    "print(f\"{len(documents)} documents.\")\n",
    "\n",
    "nodes = parse_documents(documents)\n",
    "print(f\"Chunked into {len(nodes)} nodes.\")"
   ]
  },
  {
   "cell_type": "code",
   "execution_count": 17,
   "id": "c7ff6d0d-342b-4981-8503-5d4bda085ea2",
   "metadata": {},
   "outputs": [
    {
     "name": "stdout",
     "output_type": "stream",
     "text": [
      "filename: contrato_latam_fakesoft.md\n",
      "extension: .md\n",
      "header_path: /CONTRATO DE PRESTACIÓN DE SERVICIOS PROFESIONALES/Terminación del Contrato/\n",
      "\n",
      "### DÉCIMA PRIMERA.- CAUSALES DE TERMINACIÓN\n",
      "El presente contrato podrá terminarse por cualquiera de las siguientes causas:\n",
      "\n",
      "1. Por mutuo acuerdo de las partes\n",
      "2. Por incumplimiento de cualquiera de las obligaciones establecidas en el presente contrato\n",
      "3. Por caso fortuito o fuerza mayor\n",
      "4. Por la terminación del plazo establecido\n",
      "5. Por la liquidación o disolución de cualquiera de las partes\n",
      "6. Por incumplimiento grave de las obligaciones de confidencialidad\n",
      "7. Por problemas de calidad recurrentes no resueltos\n",
      "8. Por cambios regulatorios que impidan la continuidad del contrato\n"
     ]
    }
   ],
   "source": [
    "#showing a random node structure\n",
    "print_node(node=nodes[22])"
   ]
  },
  {
   "cell_type": "code",
   "execution_count": 18,
   "id": "51a79c53-62fe-4deb-afba-d990966fefe6",
   "metadata": {},
   "outputs": [
    {
     "name": "stdout",
     "output_type": "stream",
     "text": [
      "METADATA:\n",
      "filename: contrato_latam_fakesoft.md\n",
      "extension: .md\n",
      "header_path: /CONTRATO DE PRESTACIÓN DE SERVICIOS PROFESIONALES/Terminación del Contrato/\n",
      "---\n",
      "CONTENT:\n",
      "### DÉCIMA PRIMERA.- CAUSALES DE TERMINACIÓN\n",
      "El presente contrato podrá terminarse por cualquiera de las siguientes causas:\n",
      "\n",
      "1. Por mutuo acuerdo de las partes\n",
      "2. Por incumplimiento de cualquiera de las obligaciones establecidas en el presente contrato\n",
      "3. Por caso fortuito o fuerza mayor\n",
      "4. Por la terminación del plazo establecido\n",
      "5. Por la liquidación o disolución de cualquiera de las partes\n",
      "6. Por incumplimiento grave de las obligaciones de confidencialidad\n",
      "7. Por problemas de calidad recurrentes no resueltos\n",
      "8. Por cambios regulatorios que impidan la continuidad del contrato\n"
     ]
    }
   ],
   "source": [
    "# improving node structures\n",
    "nodes = organize_node_structure(nodes)\n",
    "print_node(node=nodes[22])"
   ]
  },
  {
   "cell_type": "code",
   "execution_count": 19,
   "id": "f65d33c0-443e-401d-a4a5-4647a60d0fcc",
   "metadata": {},
   "outputs": [
    {
     "name": "stdout",
     "output_type": "stream",
     "text": [
      "METADATA:\n",
      "filename: contrato_latam_fakesoft.md\n",
      "header_path: /CONTRATO DE PRESTACIÓN DE SERVICIOS PROFESIONALES/Terminación del Contrato/\n",
      "company: Fakesoft\n",
      "---\n",
      "CONTENT:\n",
      "### DÉCIMA PRIMERA.- CAUSALES DE TERMINACIÓN\n",
      "El presente contrato podrá terminarse por cualquiera de las siguientes causas:\n",
      "\n",
      "1. Por mutuo acuerdo de las partes\n",
      "2. Por incumplimiento de cualquiera de las obligaciones establecidas en el presente contrato\n",
      "3. Por caso fortuito o fuerza mayor\n",
      "4. Por la terminación del plazo establecido\n",
      "5. Por la liquidación o disolución de cualquiera de las partes\n",
      "6. Por incumplimiento grave de las obligaciones de confidencialidad\n",
      "7. Por problemas de calidad recurrentes no resueltos\n",
      "8. Por cambios regulatorios que impidan la continuidad del contrato\n"
     ]
    }
   ],
   "source": [
    "nodes = augment_metadata(nodes)\n",
    "print_node(node=nodes[22])"
   ]
  },
  {
   "cell_type": "code",
   "execution_count": null,
   "id": "c7808759-0def-4d07-a988-13322ed9a8fa",
   "metadata": {},
   "outputs": [
    {
     "name": "stderr",
     "output_type": "stream",
     "text": [
      "Parsing nodes: 100%|██████████| 30/30 [00:00<00:00, 1718.93it/s]\n",
      "100%|██████████| 69/69 [00:15<00:00,  4.44it/s]\n"
     ]
    }
   ],
   "source": [
    "# chunking and augmenting metadata using llm. No need to apply it to the whole dataset.\n",
    "augmented_nodes = chunk_advanced_augmented_metadata(nodes[:30])"
   ]
  },
  {
   "cell_type": "code",
   "execution_count": null,
   "id": "e7c60ca0-3ff1-424a-962a-f6b6869ffda6",
   "metadata": {},
   "outputs": [
    {
     "name": "stdout",
     "output_type": "stream",
     "text": [
      "[Excerpt from document]\n",
      "filename: contrato_latam_fakesoft.md\n",
      "header_path: /CONTRATO DE PRESTACIÓN DE SERVICIOS PROFESIONALES/Terminación del Contrato/\n",
      "company: Fakesoft\n",
      "section_summary: La sección \"DÉCIMA PRIMERA.- CAUSALES DE TERMINACIÓN\" describe las razones por las cuales el contrato puede finalizar. Los temas principales incluyen las causas de terminación, que son: acuerdo mutuo, incumplimiento de obligaciones, caso fortuito o fuerza mayor, vencimiento del plazo, liquidación o disolución de alguna de las partes, incumplimiento grave de confidencialidad, problemas recurrentes de calidad no resueltos y cambios regulatorios que impidan la continuidad del contrato. Las entidades involucradas son las partes del contrato y las circunstancias que pueden llevar a su finalización.\n",
      "Excerpt:\n",
      "-----\n",
      "### DÉCIMA PRIMERA.- CAUSALES DE TERMINACIÓN\n",
      "El presente contrato podrá terminarse por cualquiera de las siguientes causas:\n",
      "\n",
      "1. Por mutuo acuerdo de las partes\n",
      "2. Por incumplimiento de cualquiera de las obligaciones establecidas en el presente contrato\n",
      "3. Por caso fortuito o fuerza mayor\n",
      "4. Por la terminación del plazo establecido\n",
      "5. Por la liquidación o disolución de cualquiera de las partes\n",
      "6. Por incumplimiento grave de las obligaciones de confidencialidad\n",
      "7. Por problemas de calidad recurrentes no resueltos\n",
      "8. Por cambios regulatorios que impidan la continuidad del contrato\n",
      "-----\n"
     ]
    }
   ],
   "source": [
    "# checking the structure including the new metadata::\n",
    "print_node(node=augmented_nodes[60])"
   ]
  }
 ],
 "metadata": {
  "kernelspec": {
   "display_name": ".venv",
   "language": "python",
   "name": "python3"
  },
  "language_info": {
   "codemirror_mode": {
    "name": "ipython",
    "version": 3
   },
   "file_extension": ".py",
   "mimetype": "text/x-python",
   "name": "python",
   "nbconvert_exporter": "python",
   "pygments_lexer": "ipython3",
   "version": "3.12.3"
  }
 },
 "nbformat": 4,
 "nbformat_minor": 5
}
