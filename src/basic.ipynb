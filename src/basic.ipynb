{
 "cells": [
  {
   "cell_type": "code",
   "execution_count": 30,
   "id": "ee88f4de-2a8d-42e2-b69e-39adb3b60a40",
   "metadata": {},
   "outputs": [],
   "source": [
    "from ipynb.fs.full.utils import *"
   ]
  },
  {
   "cell_type": "code",
   "execution_count": 31,
   "id": "d3433fdc-b9ce-4a58-adf6-69574d6d9daa",
   "metadata": {},
   "outputs": [
    {
     "name": "stdout",
     "output_type": "stream",
     "text": [
      "reading file ../data/contrato_latam_fakesoft.md...\n",
      "reading file ../data/contrato_latam_ficticia_anexo_b_especificaciones_tecnicas.md...\n",
      "reading file ../data/contrato_latam_ficticia.md...\n",
      "3 documents.\n",
      "Chunked into 109 nodes.\n"
     ]
    }
   ],
   "source": [
    "documents = read_files()\n",
    "print(f\"{len(documents)} documents.\")\n",
    "\n",
    "nodes = chunk_documents(documents)\n",
    "print(f\"Chunked into {len(nodes)} nodes.\")"
   ]
  },
  {
   "cell_type": "code",
   "execution_count": 32,
   "id": "c7ff6d0d-342b-4981-8503-5d4bda085ea2",
   "metadata": {},
   "outputs": [
    {
     "name": "stdout",
     "output_type": "stream",
     "text": [
      "filename: contrato_latam_fakesoft.md\n",
      "extension: .md\n",
      "header_path: /CONTRATO DE PRESTACIÓN DE SERVICIOS PROFESIONALES/Terminación del Contrato/\n",
      "\n",
      "### DÉCIMA PRIMERA.- CAUSALES DE TERMINACIÓN\n",
      "El presente contrato podrá terminarse por cualquiera de las siguientes causas:\n",
      "\n",
      "1. Por mutuo acuerdo de las partes\n",
      "2. Por incumplimiento de cualquiera de las obligaciones establecidas en el presente contrato\n",
      "3. Por caso fortuito o fuerza mayor\n",
      "4. Por la terminación del plazo establecido\n",
      "5. Por la liquidación o disolución de cualquiera de las partes\n",
      "6. Por incumplimiento grave de las obligaciones de confidencialidad\n",
      "7. Por problemas de calidad recurrentes no resueltos\n",
      "8. Por cambios regulatorios que impidan la continuidad del contrato\n"
     ]
    }
   ],
   "source": [
    "#showing a random node structure\n",
    "print_node(node=nodes[22])"
   ]
  },
  {
   "cell_type": "code",
   "execution_count": 33,
   "id": "51a79c53-62fe-4deb-afba-d990966fefe6",
   "metadata": {},
   "outputs": [],
   "source": [
    "# improving nodes structure\n",
    "nodes = organize_node_structure(nodes)"
   ]
  },
  {
   "cell_type": "code",
   "execution_count": 34,
   "id": "e7c60ca0-3ff1-424a-962a-f6b6869ffda6",
   "metadata": {},
   "outputs": [
    {
     "name": "stdout",
     "output_type": "stream",
     "text": [
      "METADATA:\n",
      "filename: contrato_latam_fakesoft.md\n",
      "extension: .md\n",
      "header_path: /CONTRATO DE PRESTACIÓN DE SERVICIOS PROFESIONALES/Terminación del Contrato/\n",
      "---\n",
      "CONTENT:\n",
      "### DÉCIMA PRIMERA.- CAUSALES DE TERMINACIÓN\n",
      "El presente contrato podrá terminarse por cualquiera de las siguientes causas:\n",
      "\n",
      "1. Por mutuo acuerdo de las partes\n",
      "2. Por incumplimiento de cualquiera de las obligaciones establecidas en el presente contrato\n",
      "3. Por caso fortuito o fuerza mayor\n",
      "4. Por la terminación del plazo establecido\n",
      "5. Por la liquidación o disolución de cualquiera de las partes\n",
      "6. Por incumplimiento grave de las obligaciones de confidencialidad\n",
      "7. Por problemas de calidad recurrentes no resueltos\n",
      "8. Por cambios regulatorios que impidan la continuidad del contrato\n"
     ]
    }
   ],
   "source": [
    "print_node(node=nodes[22])"
   ]
  },
  {
   "cell_type": "code",
   "execution_count": 35,
   "id": "272d7ab5-6336-4ce4-baa6-723baf47efce",
   "metadata": {},
   "outputs": [
    {
     "name": "stdout",
     "output_type": "stream",
     "text": [
      "building vector index: ../chroma_index, collection: basic_index\n"
     ]
    }
   ],
   "source": [
    "# first time load: create and persit index. Then you can just load it to save time and costs:\n",
    "basic_index = get_or_create_chroma_index(nodes, collection=\"basic_index\", mode=\"create\")\n",
    "#basic_index = get_or_create_chroma_index(nodes, collection=\"basic_index\", mode=\"load\")"
   ]
  },
  {
   "cell_type": "code",
   "execution_count": 36,
   "id": "f8cda9d9-eab4-44e4-be25-e958c06f0e7a",
   "metadata": {},
   "outputs": [
    {
     "name": "stdout",
     "output_type": "stream",
     "text": [
      "==================================================\n",
      "query: ¿Cómo es el reajuste por IPC en Fakesoft? ¿Cómo es el reajuste por IPC en Ficticia?\n",
      "==================================================\n",
      "answer:\n",
      "El reajuste por IPC en Ficticia consiste en un incremento anual basado en la inflación, específicamente el IPC más un 2%. No se proporciona información sobre cómo es el reajuste por IPC en Fakesoft.\n",
      "==================================================\n",
      "relevant_nodes:\n",
      "METADATA:\n",
      "filename: contrato_latam_ficticia.md\n",
      "extension: .md\n",
      "header_path: /CONTRATO DE PRESTACIÓN DE SERVICIOS PROFESIONALES DE CLOUD COMPUTING/Honorarios y Forma de Pago/\n",
      "---\n",
      "CONTENT:\n",
      "### SÉPTIMA.- HONORARIOS Y BENEFICIOS\n",
      "Por concepto de los servicios objeto del presente contrato, LATAM pagará a FICTICIA:\n",
      "\n",
      "1. Honorarios base: USD 50,000 (CINCUENTA MIL DÓLARES) mensuales, más los impuestos aplicables\n",
      "2. Beneficios adicionales:\n",
      "   - Descuento por volumen de uso: hasta 20% del honorario base\n",
      "   - Soporte premium: USD 5,000 mensuales\n",
      "   - Capacitación técnica: USD 2,000 por sesión\n",
      "   - Optimización de costos: 15% de ahorro compartido\n",
      "3. Ajustes anuales:\n",
      "   - Incremento por inflación: IPC + 2%\n",
      "   - Revisión de precios: semestral\n",
      "METADATA:\n",
      "filename: contrato_latam_ficticia.md\n",
      "extension: .md\n",
      "header_path: /CONTRATO DE PRESTACIÓN DE SERVICIOS PROFESIONALES DE CLOUD COMPUTING/Propiedad Intelectual/\n",
      "---\n",
      "CONTENT:\n",
      "### DÉCIMA.- PROPIEDAD INTELECTUAL\n",
      "Los modelos de IA desarrollados y entrenados por FICTICIA serán de su propiedad exclusiva. LATAM tendrá derecho a utilizar datos anonimizados para mejorar sus servicios, siempre que no comprometa la confidencialidad de FICTICIA.\n",
      "==================================================\n",
      "\n",
      "\n",
      "\n",
      "==================================================\n",
      "query: ¿Cuál es el cronograma para pagar establecido en el contrato con Fakesoft?\n",
      "==================================================\n",
      "answer:\n",
      "El cronograma de pago establecido en el contrato con Fakesoft es el siguiente: un 30% al inicio del contrato, un 40% al cumplirse el 50% de los servicios, y el 30% restante al finalizar los servicios. Los pagos deben realizarse dentro de los 30 días hábiles posteriores a la presentación de la factura correspondiente.\n",
      "==================================================\n",
      "relevant_nodes:\n",
      "METADATA:\n",
      "filename: contrato_latam_fakesoft.md\n",
      "extension: .md\n",
      "header_path: /CONTRATO DE PRESTACIÓN DE SERVICIOS PROFESIONALES/Honorarios y Forma de Pago/\n",
      "---\n",
      "CONTENT:\n",
      "### OCTAVA.- FORMA DE PAGO\n",
      "Los pagos se realizarán de la siguiente manera:\n",
      "\n",
      "1. 30% al inicio del contrato\n",
      "2. 40% al cumplimiento del 50% de los servicios\n",
      "3. 30% al finalizar los servicios\n",
      "\n",
      "Los pagos deberán realizarse dentro de los 30 días hábiles siguientes a la presentación de la factura correspondiente.\n",
      "METADATA:\n",
      "filename: contrato_latam_fakesoft.md\n",
      "extension: .md\n",
      "header_path: /CONTRATO DE PRESTACIÓN DE SERVICIOS PROFESIONALES/\n",
      "---\n",
      "CONTENT:\n",
      "## Honorarios y Forma de Pago\n",
      "==================================================\n",
      "\n",
      "\n",
      "\n",
      "==================================================\n",
      "query: ¿Qué tipo de almacenamiento utiliza Ficticia?\n",
      "==================================================\n",
      "answer:\n",
      "Ficticia utiliza almacenamiento en SSD NVMe y HDD, con capacidades de 50TB y 100TB respectivamente, además de implementar una redundancia de 3x replicación para ambos tipos de almacenamiento. También cuenta con un sistema de backup diario con una capacidad de 200TB y una retención de 30 días.\n",
      "==================================================\n",
      "relevant_nodes:\n",
      "METADATA:\n",
      "filename: contrato_latam_ficticia_anexo_b_especificaciones_tecnicas.md\n",
      "extension: .md\n",
      "header_path: /ANEXO B: ESPECIFICACIONES TÉCNICAS DE LA INFRAESTRUCTURA CLOUD/1. Infraestructura de Cómputo/\n",
      "---\n",
      "CONTENT:\n",
      "### 1.2 Almacenamiento\n",
      "- **Almacenamiento de Datos**:\n",
      "  - SSD NVMe: 100TB\n",
      "  - HDD: 500TB\n",
      "  - Redundancia: 3x replicación\n",
      "- **Almacenamiento de Modelos**:\n",
      "  - SSD NVMe: 50TB\n",
      "  - Redundancia: 3x replicación\n",
      "- **Backup**:\n",
      "  - Frecuencia: Diaria\n",
      "  - Retención: 30 días\n",
      "  - Capacidad: 200TB\n",
      "METADATA:\n",
      "filename: contrato_latam_ficticia.md\n",
      "extension: .md\n",
      "header_path: /CONTRATO DE PRESTACIÓN DE SERVICIOS PROFESIONALES DE CLOUD COMPUTING/Propiedad Intelectual/\n",
      "---\n",
      "CONTENT:\n",
      "### DÉCIMA.- PROPIEDAD INTELECTUAL\n",
      "Los modelos de IA desarrollados y entrenados por FICTICIA serán de su propiedad exclusiva. LATAM tendrá derecho a utilizar datos anonimizados para mejorar sus servicios, siempre que no comprometa la confidencialidad de FICTICIA.\n",
      "==================================================\n",
      "\n",
      "\n",
      "\n"
     ]
    }
   ],
   "source": [
    "execute_queries(basic_index, queries)"
   ]
  }
 ],
 "metadata": {
  "kernelspec": {
   "display_name": "Python 3 (ipykernel)",
   "language": "python",
   "name": "python3"
  },
  "language_info": {
   "codemirror_mode": {
    "name": "ipython",
    "version": 3
   },
   "file_extension": ".py",
   "mimetype": "text/x-python",
   "name": "python",
   "nbconvert_exporter": "python",
   "pygments_lexer": "ipython3",
   "version": "3.12.3"
  }
 },
 "nbformat": 4,
 "nbformat_minor": 5
}
